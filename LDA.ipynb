{
 "cells": [
  {
   "cell_type": "code",
   "execution_count": null,
   "id": "e723b7f7",
   "metadata": {},
   "outputs": [
    {
     "data": {
      "application/vnd.jupyter.widget-view+json": {
       "model_id": "3341a7fc95134483bcf5ef4a71b381fd",
       "version_major": 2,
       "version_minor": 0
      },
      "text/plain": [
       "Downloading readme:   0%|          | 0.00/845 [00:00<?, ?B/s]"
      ]
     },
     "metadata": {},
     "output_type": "display_data"
    },
    {
     "data": {
      "application/vnd.jupyter.widget-view+json": {
       "model_id": "651d2c1930b04d5ca6ca1cf7a745030a",
       "version_major": 2,
       "version_minor": 0
      },
      "text/plain": [
       "Downloading data:   0%|          | 0.00/62.6M [00:00<?, ?B/s]"
      ]
     },
     "metadata": {},
     "output_type": "display_data"
    },
    {
     "data": {
      "application/vnd.jupyter.widget-view+json": {
       "model_id": "c6839def1fba48148ea935ba41e86188",
       "version_major": 2,
       "version_minor": 0
      },
      "text/plain": [
       "Generating train split:   0%|          | 0/28240 [00:00<?, ? examples/s]"
      ]
     },
     "metadata": {},
     "output_type": "display_data"
    }
   ],
   "source": [
    "from datasets import load_dataset, DatasetDict, Dataset\n",
    "from huggingface_hub import login\n",
    "\n",
    "# 输入你的 Hugging Face API token\n",
    "\n",
    "ds = load_dataset(\"Adelante/Al-Ahram-kw-containing-gt3\")"
   ]
  },
  {
   "cell_type": "code",
   "execution_count": 4,
   "id": "47d57101",
   "metadata": {},
   "outputs": [
    {
     "data": {
      "text/plain": [
       "'\\nسه. .سد ٠٢٨٠،\\n٢٠سضسجة ١٤٣١ ه-١سبر (صناول)٢ ٢٠٢٠١٠ مسو ١٧٢٧\\n-Al-sAhram Wednesday 1 Dec. 2010\\nنسس ٢٧ لبسر ،٠ ١٨٧ اسر سد املي هى . اسلى ١٨٧٦ : طبم وشعرة علا\\nتم\\nاا!؛يج\\n-اً\\n!!ي\\nادفع ن ادش ن ذير\\n- ١ ما لد مذ فبا/ى\\n-)مس\\n-احود\\nسهشب..ت ،،،،٠٠٢١٠٠٠٠\\n..٦١*٦٢٠٠٠*سا-الرداس*ى ١١٠١١\\nدلى : ٠٢٥٧٨٦٠٢٣ لس٤ :لد؟\\nالامعدرية: . ١ طريق مزعيم عبد النامر\\nت ...؛١.٤٨٧هههه٨، لعس؛ ٤٨١١٥١١\\n؛,ملالات: ٢١ شارع سبى دانيال\\nت ٠٣٠٤١٥٦٦٨٠ داعس ٢٨٨؛١٧،-٢.\\nبريدالعروض ،،.دسها\\nاخل،،يىابذبم.إ1١1٠٢عاا1 ١٢\\nسدامدذه٤ه١٦\\nرئيس مجلس الإدارة\\n.-د.عبدالمنعم سعيد\\nرئيس التحرير\\nأسامة سرايا\\n\\n٢٣|وم.ر,ا،،رمر١|مسهمإسرصء\\nاللجفة اسيا نتائج الجولة الأولى للانتخابات فى جميع الدوانر\\nاأهلأةهش٢٧٧.هااو٠ا١طة..لآ٢سد؛االآ٠)او٠٦إ٠او١دتم\\nا ١٤ مبوناأدلوا؛مواتهم فى الانتخابات سبة شاركة 7.٣٥ ٥ المحظورة و١ ٣ حزبا معارضالم يغوزوا باى هقعد\\n1 اللجنة اسيا تؤكد قانونية الانتخابات وترفض وصفها بالتزوير ا شغب فى ١٦ دائرة.. وإبطال ١٠٥٣ مغدوقا شابها العث\\n,اةهونم>> بلأواساء الالإس المولة ا؛هودىوضفهى الإءادة\\nالقاهرة - من على محمد على: اسعرت\\nالدنانح الهانية الرسمية للحولة الاور لاشحامات\\nمجلس الشعب. النى جرت الأحد الماضعى. عن فور\\nالحرب الوطنى الديمغرافى بعدد ٢١٧ مغعدا\\nكما هاز حرب الوفد بمقعدين. وكل من النجمع.\\nوالغد. والعدالة لمقعد واحد. والمسنفلد بثلاثة\\nمناعد. ليدما لم يغر ١٣ حزبا معارضا باى مغعد ,\\nكما لم تفر الحماعة المحظورة باى مغعد\\nوتجرى ا لإعادة الأحد المغيل عنى بحو . ٢٨ منعد ا .\\nيتمافس للعير مها ٣٧٧ مرشحا عن الحرب الوطدى.\\nوم ١٤ مستغلا. و٢ ٧ من الجماعة المحظيرة. و٩ من\\nالوفد . و٦ من التجمع. ومرشح واحد لحزب السلام\\nوند ا علدت اللجدة العليا للانتخابات مسا، امص\\nالدتانج العهابية الرسمية للحولة الأولى للاشحابات،\\nالنى تدا عس هبها ٥٠٣٣ مرشحا من محتلف التيارات\\nالسياسية. فى ٠٧ ٥ مقاعد. تمثل الدوانر العادية عنى\\nمستود الجمهسة. مصافا إليها دوانر كوتة المراة\\nوبلغ عدد الناخبين الحاصلان فى جميع اللجان\\n١٤ مليونا و٣٦ الغا و٩ ٣٧ ناحبا. سسبة حصير طغت\\n٣٥/, تغريبا واوصحت اللحدة العليا ر ميامها ان\\nالمرشحين حاصوا الانتخابات فى ٢٥٤ داترة. تشمل\\nدوانر المراة. تحت إشراف ٢٢٨٦ من رجال الفحما،\\nفى صليات الااعو1لعيرمى ٤٤٧٣٤ لجدةفرعية.\\nوشددت اللجدة على ان عمليات الاقتراع والفرز\\nوإعلان النتائج جرت على نحو يتسم مالحبدة. وتحت\\nرقالة مر المرشحين. ومددوبيهم الموجودين باللجان\\nالفرعية والعامة. وكذا متابعة من وسائل الإعلام.\\nوممثلى المجلس الفومى لحفوق الإنسان. ومدطمات\\nالمحنمع المدمى المصرح لها. البالع عددها ٧٦ منظمة.\\nمر حلال اعصا نها الذين قاموا بمتابعة عملية\\nالاشحان وعددهم ٦١٣٠ عصوا. بالإصابة إلى\\nمتابعة وسانل الإعلام والمراسلين الأجاشب العالع\\nعددهم ٤٩٨ ٠ فصلا عن الصحافة المصلاة. ومحطات\\nالظيغريون المحلية. والغضانية\\nواكد المتحدث ياسم اللحدة العليا للامنحابات ان\\nاللجنة حرصت عنى ان تصل إرادة الناحبين لممظيهم\\nوقال. خلال المؤمتمر انصحعى الدى عقده مساء امس\\nإن اللجدة تصدت لحمبع شكاوى الداحيين. مشيرا إلى\\n١ن هناك ١٦ دالي ة شهدت اعمال شعب وأشار\\nالمتحدث إلى ان رنيس اللجدة العامة الغى الاشحامات\\nفى *ابيلا) بعد حرق مجهولين صنا ليق الافتراع-\\nواضاف ان جميع المنا لبق النى شابها العبث\\nوعددها ٥٢ ٠ ١ امطلنها اللجنة. وشدد عنى رفغر\\nاللجنة العليا وصف الانتخابات بطابع التنوير، مؤكدا\\nان اللجنة حرحت عنى تنفيذ القانون والاحكام\\nالفضائية النى صدرت. واوضح ان انسحاب المرشح\\nفى اثنا، الاقتراع ليس له اى تأثير'"
      ]
     },
     "execution_count": 4,
     "metadata": {},
     "output_type": "execute_result"
    }
   ],
   "source": [
    "ds['train']['text'][0]"
   ]
  },
  {
   "cell_type": "code",
   "execution_count": 9,
   "id": "bd78f9fa",
   "metadata": {},
   "outputs": [],
   "source": [
    "text_list = []\n",
    "for each in ds['train']:\n",
    "    text_list.append(each['text'])"
   ]
  },
  {
   "cell_type": "code",
   "execution_count": 10,
   "id": "44122f6e",
   "metadata": {},
   "outputs": [
    {
     "data": {
      "text/plain": [
       "'\\nسه. .سد ٠٢٨٠،\\n٢٠سضسجة ١٤٣١ ه-١سبر (صناول)٢ ٢٠٢٠١٠ مسو ١٧٢٧\\n-Al-sAhram Wednesday 1 Dec. 2010\\nنسس ٢٧ لبسر ،٠ ١٨٧ اسر سد املي هى . اسلى ١٨٧٦ : طبم وشعرة علا\\nتم\\nاا!؛يج\\n-اً\\n!!ي\\nادفع ن ادش ن ذير\\n- ١ ما لد مذ فبا/ى\\n-)مس\\n-احود\\nسهشب..ت ،،،،٠٠٢١٠٠٠٠\\n..٦١*٦٢٠٠٠*سا-الرداس*ى ١١٠١١\\nدلى : ٠٢٥٧٨٦٠٢٣ لس٤ :لد؟\\nالامعدرية: . ١ طريق مزعيم عبد النامر\\nت ...؛١.٤٨٧هههه٨، لعس؛ ٤٨١١٥١١\\n؛,ملالات: ٢١ شارع سبى دانيال\\nت ٠٣٠٤١٥٦٦٨٠ داعس ٢٨٨؛١٧،-٢.\\nبريدالعروض ،،.دسها\\nاخل،،يىابذبم.إ1١1٠٢عاا1 ١٢\\nسدامدذه٤ه١٦\\nرئيس مجلس الإدارة\\n.-د.عبدالمنعم سعيد\\nرئيس التحرير\\nأسامة سرايا\\n\\n٢٣|وم.ر,ا،،رمر١|مسهمإسرصء\\nاللجفة اسيا نتائج الجولة الأولى للانتخابات فى جميع الدوانر\\nاأهلأةهش٢٧٧.هااو٠ا١طة..لآ٢سد؛االآ٠)او٠٦إ٠او١دتم\\nا ١٤ مبوناأدلوا؛مواتهم فى الانتخابات سبة شاركة 7.٣٥ ٥ المحظورة و١ ٣ حزبا معارضالم يغوزوا باى هقعد\\n1 اللجنة اسيا تؤكد قانونية الانتخابات وترفض وصفها بالتزوير ا شغب فى ١٦ دائرة.. وإبطال ١٠٥٣ مغدوقا شابها العث\\n,اةهونم>> بلأواساء الالإس المولة ا؛هودىوضفهى الإءادة\\nالقاهرة - من على محمد على: اسعرت\\nالدنانح الهانية الرسمية للحولة الاور لاشحامات\\nمجلس الشعب. النى جرت الأحد الماضعى. عن فور\\nالحرب الوطنى الديمغرافى بعدد ٢١٧ مغعدا\\nكما هاز حرب الوفد بمقعدين. وكل من النجمع.\\nوالغد. والعدالة لمقعد واحد. والمسنفلد بثلاثة\\nمناعد. ليدما لم يغر ١٣ حزبا معارضا باى مغعد ,\\nكما لم تفر الحماعة المحظورة باى مغعد\\nوتجرى ا لإعادة الأحد المغيل عنى بحو . ٢٨ منعد ا .\\nيتمافس للعير مها ٣٧٧ مرشحا عن الحرب الوطدى.\\nوم ١٤ مستغلا. و٢ ٧ من الجماعة المحظيرة. و٩ من\\nالوفد . و٦ من التجمع. ومرشح واحد لحزب السلام\\nوند ا علدت اللجدة العليا للانتخابات مسا، امص\\nالدتانج العهابية الرسمية للحولة الأولى للاشحابات،\\nالنى تدا عس هبها ٥٠٣٣ مرشحا من محتلف التيارات\\nالسياسية. فى ٠٧ ٥ مقاعد. تمثل الدوانر العادية عنى\\nمستود الجمهسة. مصافا إليها دوانر كوتة المراة\\nوبلغ عدد الناخبين الحاصلان فى جميع اللجان\\n١٤ مليونا و٣٦ الغا و٩ ٣٧ ناحبا. سسبة حصير طغت\\n٣٥/, تغريبا واوصحت اللحدة العليا ر ميامها ان\\nالمرشحين حاصوا الانتخابات فى ٢٥٤ داترة. تشمل\\nدوانر المراة. تحت إشراف ٢٢٨٦ من رجال الفحما،\\nفى صليات الااعو1لعيرمى ٤٤٧٣٤ لجدةفرعية.\\nوشددت اللجدة على ان عمليات الاقتراع والفرز\\nوإعلان النتائج جرت على نحو يتسم مالحبدة. وتحت\\nرقالة مر المرشحين. ومددوبيهم الموجودين باللجان\\nالفرعية والعامة. وكذا متابعة من وسائل الإعلام.\\nوممثلى المجلس الفومى لحفوق الإنسان. ومدطمات\\nالمحنمع المدمى المصرح لها. البالع عددها ٧٦ منظمة.\\nمر حلال اعصا نها الذين قاموا بمتابعة عملية\\nالاشحان وعددهم ٦١٣٠ عصوا. بالإصابة إلى\\nمتابعة وسانل الإعلام والمراسلين الأجاشب العالع\\nعددهم ٤٩٨ ٠ فصلا عن الصحافة المصلاة. ومحطات\\nالظيغريون المحلية. والغضانية\\nواكد المتحدث ياسم اللحدة العليا للامنحابات ان\\nاللجنة حرصت عنى ان تصل إرادة الناحبين لممظيهم\\nوقال. خلال المؤمتمر انصحعى الدى عقده مساء امس\\nإن اللجدة تصدت لحمبع شكاوى الداحيين. مشيرا إلى\\n١ن هناك ١٦ دالي ة شهدت اعمال شعب وأشار\\nالمتحدث إلى ان رنيس اللجدة العامة الغى الاشحامات\\nفى *ابيلا) بعد حرق مجهولين صنا ليق الافتراع-\\nواضاف ان جميع المنا لبق النى شابها العبث\\nوعددها ٥٢ ٠ ١ امطلنها اللجنة. وشدد عنى رفغر\\nاللجنة العليا وصف الانتخابات بطابع التنوير، مؤكدا\\nان اللجنة حرحت عنى تنفيذ القانون والاحكام\\nالفضائية النى صدرت. واوضح ان انسحاب المرشح\\nفى اثنا، الاقتراع ليس له اى تأثير'"
      ]
     },
     "execution_count": 10,
     "metadata": {},
     "output_type": "execute_result"
    }
   ],
   "source": [
    "text_list[0]"
   ]
  },
  {
   "cell_type": "code",
   "execution_count": 21,
   "id": "3dc9a418",
   "metadata": {},
   "outputs": [
    {
     "name": "stderr",
     "output_type": "stream",
     "text": [
      "[nltk_data] Downloading package stopwords to\n",
      "[nltk_data]     C:\\Users\\黄柏喻\\AppData\\Roaming\\nltk_data...\n",
      "[nltk_data]   Package stopwords is already up-to-date!\n",
      "100%|██████████████████████████████████████████████████████████████████████████| 28240/28240 [00:10<00:00, 2688.15it/s]\n"
     ]
    }
   ],
   "source": [
    "import re\n",
    "import nltk\n",
    "import pyarabic.araby as araby\n",
    "import numpy as np\n",
    "from nltk.corpus import stopwords\n",
    "from sklearn.decomposition import LatentDirichletAllocation\n",
    "from sklearn.feature_extraction.text import CountVectorizer\n",
    "from tqdm import tqdm\n",
    "\n",
    "# 下载阿拉伯语停用词（首次运行需要）\n",
    "nltk.download('stopwords')\n",
    "arabic_stopwords = set(stopwords.words('arabic'))\n",
    "\n",
    "# 示例阿拉伯语文本\n",
    "documents = text_list\n",
    "\n",
    "# 预处理文本\n",
    "def preprocess_arabic(text):\n",
    "    text = araby.strip_tashkeel(text)  # 去除阿拉伯语的元音标记\n",
    "    text = araby.normalize_hamza(text)  # 规范化 Hamza\n",
    "    text = araby.normalize_ligature(text)  # 规范化连接字符\n",
    "    text = re.sub(r'[^\\w\\s]', '', text)  # 去除标点符号\n",
    "    words = text.split()\n",
    "    words = [word for word in words if word not in arabic_stopwords]  # 去除停用词\n",
    "    return \" \".join(words)\n",
    "\n",
    "# 处理所有文档\n",
    "processed_docs = [preprocess_arabic(doc) for doc in tqdm(documents)]\n",
    "\n",
    "# 使用 CountVectorizer 进行词频统计\n",
    "vectorizer = CountVectorizer()\n",
    "X = vectorizer.fit_transform(processed_docs)\n",
    "\n",
    "\n"
   ]
  },
  {
   "cell_type": "code",
   "execution_count": 33,
   "id": "90e756f3",
   "metadata": {
    "collapsed": true
   },
   "outputs": [
    {
     "name": "stdout",
     "output_type": "stream",
     "text": [
      "主题 1:\n",
      "فى ان محمد ءلى النى\n",
      "主题 2:\n",
      "فى ان ءن النى الذى\n",
      "主题 3:\n",
      "فى ان مر هى او\n"
     ]
    }
   ],
   "source": [
    "# 训练 LDA 主题模型\n",
    "num_topics = 3  # 设定主题数\n",
    "from sklearn.decomposition import LatentDirichletAllocation\n",
    "from joblib import parallel_backend\n",
    "\n",
    "lda_model = LatentDirichletAllocation(n_components=num_topics, max_iter=1000, random_state=42, n_jobs=-1)\n",
    "\n",
    "# 强制使用线程模式\n",
    "with parallel_backend('threading'):\n",
    "    lda_model.fit(X)\n"
   ]
  },
  {
   "cell_type": "code",
   "execution_count": 37,
   "id": "742d27a5",
   "metadata": {},
   "outputs": [
    {
     "name": "stdout",
     "output_type": "stream",
     "text": [
      "TOPIC 1:\n",
      "فى ان محمد ءلى النى رنيس خلال ءن عنى عر الى تم العام مجلس التى الذى مصر عدد كتب امس انه نى احمد الشرطة مر عبد الشعب العامة امام او المجلس علي الانتخابات الدكتور عفى طى القاهرة المستشار وفى السابق مدير اليوم المسلحة رءيس محمود حزب داخل اللجنة اى وان اكد والعدالة ار المصرى احد الداخلية ءر عام الامن واكد الثورة يوم اللوا يتم الدولة الشباب 11 حالة العمل المواطنين عدم الانتخابية ١ن حول السياسية الحزب هى حنى هده لى عليها وقد ونال ٢٥ مبارك لجنة العليا المحكمة شباب ءلا الدكتير الشيخ وكان كانت وتم السيد ميدان ءفى اللجان\n",
      "TOPIC 2:\n",
      "فى ان ءن النى الذى ءلى مصر عنى او التى الى عفى عر نى الشعب خلال هى كانت وفى ١ن انه السياسية الدولة ءفى العام الحكومة المصرى العربية هدا الثورة هده عام ءو العالم ءر اى وان طى حنى نلك الانتخابات ءلا المجتمع النظام مر علي الله الثيرة المجلس يمكن السلطة العمل ار مجلس رنيس لى الءءن عليها الوقت ولم الديمقراطية الدول السياسى حول امس السابق البلاد فءن وهى المصرية افى عدد الرنيس عدم محمد تم امام يجب الدى وكان الخارجية المتحدة ضد احد اكثر الحكم وليس الرءيس ءذا الشباب وقد ءنه حالة العامة جديدة حكومة 11 الوطن ايضا\n",
      "TOPIC 3:\n",
      "فى ان مر هى او مى عر النى هدا نى عنى معد مصر علي طى الى هده الدى لى عفى عى ار ني ءن ءلى الدولة الثورة الشعب ١ن ممر طي اى وان اد الثيرة ند الذى حنى الا حلال احد ٢٥ الي كانت عام ءلي العام امه عدد الض امام نلك محمد نم التى الله ءلا اما انه ءفى وفى الشباب مها المصرى عير الامر ولم افى مدا كامت رنيس العالم الفساد مي الشرطة الان وند لان العمل حدث الدي خلال لكل العظام دلك الرنيس سر مبارك وكان يوم مين الحرب عدم احمد المسلحة ءر سد اكثر الني\n"
     ]
    }
   ],
   "source": [
    "feature_names = vectorizer.get_feature_names_out()\n",
    "for topic_idx, topic in enumerate(lda_model.components_):\n",
    "    print(f\"TOPIC {topic_idx+1}:\")\n",
    "    print(\" \".join([feature_names[i] for i in topic.argsort()[:-100:-1]])) "
   ]
  },
  {
   "cell_type": "markdown",
   "id": "bcc4bebc",
   "metadata": {},
   "source": [
    "With the help of ChatGPT, above keywords list are translated to below content:\n",
    "\n",
    "> ### **Overall Summary:**  \n",
    "> 1. **Topic 1** focuses on **political systems and national security**, emphasizing government institutions, elections, and law enforcement systems.  \n",
    "> 2. **Topic 2** highlights **national governance and social change**, covering democracy, government operations, and societal impact.  \n",
    "> 3. **Topic 3** leans towards **political turmoil, corruption, and the military**, emphasizing the role of the army, police, and government crises.  "
   ]
  },
  {
   "cell_type": "code",
   "execution_count": 38,
   "id": "54ff65e2",
   "metadata": {},
   "outputs": [
    {
     "data": {
      "text/plain": [
       "['lda_model.joblib']"
      ]
     },
     "execution_count": 38,
     "metadata": {},
     "output_type": "execute_result"
    }
   ],
   "source": [
    "from joblib import dump, load\n",
    "\n",
    "# 保存 LDA 模型\n",
    "dump(lda_model, \"lda_model.joblib\")\n",
    "\n"
   ]
  },
  {
   "cell_type": "code",
   "execution_count": 39,
   "id": "e1072ce4",
   "metadata": {},
   "outputs": [],
   "source": [
    "\n",
    "\n",
    "# 未来加载 LDA 模型\n",
    "loaded_lda_model = load(\"lda_model.joblib\")\n"
   ]
  },
  {
   "cell_type": "code",
   "execution_count": 42,
   "id": "caf5bdbb",
   "metadata": {},
   "outputs": [
    {
     "name": "stdout",
     "output_type": "stream",
     "text": [
      "TOPIC 1:\n",
      "فى ان\n",
      "TOPIC 2:\n",
      "فى ان\n",
      "TOPIC 3:\n",
      "فى ان\n"
     ]
    }
   ],
   "source": [
    "for topic_idx, topic in enumerate(loaded_lda_model.components_):\n",
    "    print(f\"TOPIC {topic_idx+1}:\")\n",
    "    print(\" \".join([feature_names[i] for i in topic.argsort()[:-3:-1]])) "
   ]
  },
  {
   "cell_type": "code",
   "execution_count": null,
   "id": "fd72ca41",
   "metadata": {},
   "outputs": [],
   "source": []
  }
 ],
 "metadata": {
  "kernelspec": {
   "display_name": "Python 3 (ipykernel)",
   "language": "python",
   "name": "python3"
  },
  "language_info": {
   "codemirror_mode": {
    "name": "ipython",
    "version": 3
   },
   "file_extension": ".py",
   "mimetype": "text/x-python",
   "name": "python",
   "nbconvert_exporter": "python",
   "pygments_lexer": "ipython3",
   "version": "3.9.13"
  }
 },
 "nbformat": 4,
 "nbformat_minor": 5
}
